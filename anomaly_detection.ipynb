{
  "nbformat": 4,
  "nbformat_minor": 0,
  "metadata": {
    "colab": {
      "name": "anomaly_detection.ipynb",
      "provenance": []
    },
    "kernelspec": {
      "name": "python3",
      "display_name": "Python 3"
    },
    "language_info": {
      "name": "python"
    }
  },
  "cells": [
    {
      "cell_type": "code",
      "metadata": {
        "id": "Tvdm0y453nCk"
      },
      "source": [
        "#!/usr/bin/env python3\n",
        "# -*- coding: utf-8 -*-\n",
        "\"\"\"\n",
        "Created on Mon Mar 22 09:50:38 2021\n",
        "\n",
        "@author: poulomi\n",
        "\"\"\"\n",
        "'''\n",
        "This project is to find anomaly in stock price using the concept of Autoencoders. We use the GE stock price as our dataset.\n",
        "'''\n",
        "\n",
        "import pandas as pd\n",
        "import numpy as np\n",
        "from keras.models import Sequential\n",
        "from keras.layers import LSTM, Dense, Input, Dropout, RepeatVector, TimeDistributed\n",
        "import matplotlib.pyplot as plt\n",
        "from sklearn.preprocessing import MinMaxScaler, StandardScaler\n",
        "from keras.models import Model\n",
        "import seaborn as sns\n",
        "np.random.seed(42)\n"
      ],
      "execution_count": 1,
      "outputs": []
    },
    {
      "cell_type": "code",
      "metadata": {
        "colab": {
          "resources": {
            "http://localhost:8080/nbextensions/google.colab/files.js": {
              "data": "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",
              "ok": true,
              "headers": [
                [
                  "content-type",
                  "application/javascript"
                ]
              ],
              "status": 200,
              "status_text": ""
            }
          },
          "base_uri": "https://localhost:8080/",
          "height": 72
        },
        "id": "jamD5hC570nz",
        "outputId": "a71d3421-e965-47e5-d619-a1d357fe7f1d"
      },
      "source": [
        "#read the data and show it\n",
        "from google.colab import files\n",
        "uploaded =files.upload()\n",
        "#reading the data set into a pandas dataframe\n",
        "data = pd.read_csv(\"GE.csv\")\n"
      ],
      "execution_count": 2,
      "outputs": [
        {
          "output_type": "display_data",
          "data": {
            "text/html": [
              "\n",
              "     <input type=\"file\" id=\"files-75ab0784-0309-4a0d-a144-1e281ce8f1c7\" name=\"files[]\" multiple disabled\n",
              "        style=\"border:none\" />\n",
              "     <output id=\"result-75ab0784-0309-4a0d-a144-1e281ce8f1c7\">\n",
              "      Upload widget is only available when the cell has been executed in the\n",
              "      current browser session. Please rerun this cell to enable.\n",
              "      </output>\n",
              "      <script src=\"/nbextensions/google.colab/files.js\"></script> "
            ],
            "text/plain": [
              "<IPython.core.display.HTML object>"
            ]
          },
          "metadata": {
            "tags": []
          }
        },
        {
          "output_type": "stream",
          "text": [
            "Saving GE.csv to GE.csv\n"
          ],
          "name": "stdout"
        }
      ]
    },
    {
      "cell_type": "code",
      "metadata": {
        "colab": {
          "base_uri": "https://localhost:8080/",
          "height": 419
        },
        "id": "PiPH9zYF7x4_",
        "outputId": "c9d30ad7-7c4a-44ed-ce4f-c5ae874c87ea"
      },
      "source": [
        "df = data[['Date', 'Close']]\n",
        "df\n"
      ],
      "execution_count": 8,
      "outputs": [
        {
          "output_type": "execute_result",
          "data": {
            "text/html": [
              "<div>\n",
              "<style scoped>\n",
              "    .dataframe tbody tr th:only-of-type {\n",
              "        vertical-align: middle;\n",
              "    }\n",
              "\n",
              "    .dataframe tbody tr th {\n",
              "        vertical-align: top;\n",
              "    }\n",
              "\n",
              "    .dataframe thead th {\n",
              "        text-align: right;\n",
              "    }\n",
              "</style>\n",
              "<table border=\"1\" class=\"dataframe\">\n",
              "  <thead>\n",
              "    <tr style=\"text-align: right;\">\n",
              "      <th></th>\n",
              "      <th>Date</th>\n",
              "      <th>Close</th>\n",
              "    </tr>\n",
              "  </thead>\n",
              "  <tbody>\n",
              "    <tr>\n",
              "      <th>0</th>\n",
              "      <td>1962-01-02</td>\n",
              "      <td>0.748698</td>\n",
              "    </tr>\n",
              "    <tr>\n",
              "      <th>1</th>\n",
              "      <td>1962-01-03</td>\n",
              "      <td>0.741186</td>\n",
              "    </tr>\n",
              "    <tr>\n",
              "      <th>2</th>\n",
              "      <td>1962-01-04</td>\n",
              "      <td>0.732422</td>\n",
              "    </tr>\n",
              "    <tr>\n",
              "      <th>3</th>\n",
              "      <td>1962-01-05</td>\n",
              "      <td>0.713642</td>\n",
              "    </tr>\n",
              "    <tr>\n",
              "      <th>4</th>\n",
              "      <td>1962-01-08</td>\n",
              "      <td>0.712390</td>\n",
              "    </tr>\n",
              "    <tr>\n",
              "      <th>...</th>\n",
              "      <td>...</td>\n",
              "      <td>...</td>\n",
              "    </tr>\n",
              "    <tr>\n",
              "      <th>14901</th>\n",
              "      <td>2021-03-15</td>\n",
              "      <td>13.350000</td>\n",
              "    </tr>\n",
              "    <tr>\n",
              "      <th>14902</th>\n",
              "      <td>2021-03-16</td>\n",
              "      <td>13.150000</td>\n",
              "    </tr>\n",
              "    <tr>\n",
              "      <th>14903</th>\n",
              "      <td>2021-03-17</td>\n",
              "      <td>13.610000</td>\n",
              "    </tr>\n",
              "    <tr>\n",
              "      <th>14904</th>\n",
              "      <td>2021-03-18</td>\n",
              "      <td>13.250000</td>\n",
              "    </tr>\n",
              "    <tr>\n",
              "      <th>14905</th>\n",
              "      <td>2021-03-19</td>\n",
              "      <td>13.220000</td>\n",
              "    </tr>\n",
              "  </tbody>\n",
              "</table>\n",
              "<p>14906 rows × 2 columns</p>\n",
              "</div>"
            ],
            "text/plain": [
              "             Date      Close\n",
              "0      1962-01-02   0.748698\n",
              "1      1962-01-03   0.741186\n",
              "2      1962-01-04   0.732422\n",
              "3      1962-01-05   0.713642\n",
              "4      1962-01-08   0.712390\n",
              "...           ...        ...\n",
              "14901  2021-03-15  13.350000\n",
              "14902  2021-03-16  13.150000\n",
              "14903  2021-03-17  13.610000\n",
              "14904  2021-03-18  13.250000\n",
              "14905  2021-03-19  13.220000\n",
              "\n",
              "[14906 rows x 2 columns]"
            ]
          },
          "metadata": {
            "tags": []
          },
          "execution_count": 8
        }
      ]
    },
    {
      "cell_type": "code",
      "metadata": {
        "colab": {
          "base_uri": "https://localhost:8080/"
        },
        "id": "YpTGuEAX9Y0O",
        "outputId": "e4dd6b29-4947-4486-b871-8c6bd0c8f183"
      },
      "source": [
        "df['Date'] = pd.to_datetime(df['Date'])\n"
      ],
      "execution_count": 6,
      "outputs": [
        {
          "output_type": "stream",
          "text": [
            "/usr/local/lib/python3.7/dist-packages/ipykernel_launcher.py:1: SettingWithCopyWarning: \n",
            "A value is trying to be set on a copy of a slice from a DataFrame.\n",
            "Try using .loc[row_indexer,col_indexer] = value instead\n",
            "\n",
            "See the caveats in the documentation: https://pandas.pydata.org/pandas-docs/stable/user_guide/indexing.html#returning-a-view-versus-a-copy\n",
            "  \"\"\"Entry point for launching an IPython kernel.\n"
          ],
          "name": "stderr"
        }
      ]
    },
    {
      "cell_type": "code",
      "metadata": {
        "colab": {
          "base_uri": "https://localhost:8080/",
          "height": 281
        },
        "id": "sE41HMzx9ayK",
        "outputId": "1417f4f1-fb52-44e1-a6d1-e0f9172973b0"
      },
      "source": [
        "sns.lineplot(x=df['Date'], y=df['Close'])\n",
        "plt.savefig(\"Data.png\")\n"
      ],
      "execution_count": 7,
      "outputs": [
        {
          "output_type": "display_data",
          "data": {
            "image/png": "[encoded data removed]",
            "text/plain": [
              "<Figure size 432x288 with 1 Axes>"
            ]
          },
          "metadata": {
            "tags": [],
            "needs_background": "light"
          }
        }
      ]
    },
    {
      "cell_type": "code",
      "metadata": {
        "colab": {
          "base_uri": "https://localhost:8080/"
        },
        "id": "KLhn003G96IW",
        "outputId": "e441bd0e-722c-494f-981e-51e7a96b041b"
      },
      "source": [
        "print('Start date is: ', df['Date'].min())\n",
        "print('End date is: ', df['Date'].max())\n"
      ],
      "execution_count": 9,
      "outputs": [
        {
          "output_type": "stream",
          "text": [
            "Start date is:  1962-01-02\n",
            "End date is:  2021-03-19\n"
          ],
          "name": "stdout"
        }
      ]
    },
    {
      "cell_type": "code",
      "metadata": {
        "id": "g9_tmdVs-GTw"
      },
      "source": [
        "#dividing the data set into training and test sets, using location instead of \n",
        "train, test = df.loc[df['Date'] <= '2003-12-31'], df.loc[df['Date'] > '2003-12-31']\n"
      ],
      "execution_count": 11,
      "outputs": []
    },
    {
      "cell_type": "code",
      "metadata": {
        "colab": {
          "base_uri": "https://localhost:8080/"
        },
        "id": "lnlXYMw7-Mpw",
        "outputId": "0cdc0841-d2cf-416b-f73d-3a7bde9628d1"
      },
      "source": [
        "#normalizing the data set since LSTM is sensitive to large values\n",
        "#standardscaler standardize features by removing the mean and scaling to unit variance\n",
        "scaler = StandardScaler()\n",
        "scaler = scaler.fit(train[['Close']])\n",
        "\n",
        "#now we have a model that we can use to transform our train and test data \n",
        "train['Close'] = scaler.transform(train[['Close']])\n",
        "test['Close'] = scaler.transform(test[['Close']])\n"
      ],
      "execution_count": 12,
      "outputs": [
        {
          "output_type": "stream",
          "text": [
            "/usr/local/lib/python3.7/dist-packages/ipykernel_launcher.py:7: SettingWithCopyWarning: \n",
            "A value is trying to be set on a copy of a slice from a DataFrame.\n",
            "Try using .loc[row_indexer,col_indexer] = value instead\n",
            "\n",
            "See the caveats in the documentation: https://pandas.pydata.org/pandas-docs/stable/user_guide/indexing.html#returning-a-view-versus-a-copy\n",
            "  import sys\n",
            "/usr/local/lib/python3.7/dist-packages/ipykernel_launcher.py:8: SettingWithCopyWarning: \n",
            "A value is trying to be set on a copy of a slice from a DataFrame.\n",
            "Try using .loc[row_indexer,col_indexer] = value instead\n",
            "\n",
            "See the caveats in the documentation: https://pandas.pydata.org/pandas-docs/stable/user_guide/indexing.html#returning-a-view-versus-a-copy\n",
            "  \n"
          ],
          "name": "stderr"
        }
      ]
    },
    {
      "cell_type": "code",
      "metadata": {
        "id": "-6qnka8k-UO4"
      },
      "source": [
        "#As required by LSTM networks we need to reshape an input data into n samples X timesteps\n",
        "seq_size = 60 # number of timesteps to look back, larger sequences might improve forecasting\n"
      ],
      "execution_count": 13,
      "outputs": []
    },
    {
      "cell_type": "code",
      "metadata": {
        "id": "b8n370UP-VH-"
      },
      "source": [
        "def sequence(x,y,seq_size=1):\n",
        "    x_values=[]\n",
        "    y_values=[]\n",
        "    \n",
        "    for i in range(len(x) - seq_size):\n",
        "        #print(i)\n",
        "        x_values.append(x.iloc[i:(i+seq_size)].values)\n",
        "        y_values.append(y.iloc[i+seq_size])\n",
        "        \n",
        "    return np.array(x_values), np.array(y_values)\n",
        "\n",
        "X_train, y_train = sequence(train[['Close']], train['Close'], seq_size)\n",
        "X_test, y_test = sequence(test[['Close']], test['Close'], seq_size)\n"
      ],
      "execution_count": 14,
      "outputs": []
    },
    {
      "cell_type": "code",
      "metadata": {
        "colab": {
          "base_uri": "https://localhost:8080/"
        },
        "id": "GZ3X88qZ_0lz",
        "outputId": "7a63a359-bb60-4f65-d7bd-960a66e80293"
      },
      "source": [
        "#Model architecture\n",
        "model = Sequential()\n",
        "model.add(LSTM(128, input_shape=(X_train.shape[1], X_train.shape[2])))\n",
        "model.add(Dropout(rate=0.2))\n",
        "\n",
        "model.add(RepeatVector(X_train.shape[1]))\n",
        "\n",
        "model.add(LSTM(128, return_sequences=True))\n",
        "model.add(Dropout(rate=0.2))\n",
        "model.add(TimeDistributed(Dense(X_train.shape[2])))\n",
        "model.compile(optimizer='adam', loss='mae')\n",
        "model.summary()\n"
      ],
      "execution_count": 15,
      "outputs": [
        {
          "output_type": "stream",
          "text": [
            "Model: \"sequential\"\n",
            "_________________________________________________________________\n",
            "Layer (type)                 Output Shape              Param #   \n",
            "=================================================================\n",
            "lstm (LSTM)                  (None, 128)               66560     \n",
            "_________________________________________________________________\n",
            "dropout (Dropout)            (None, 128)               0         \n",
            "_________________________________________________________________\n",
            "repeat_vector (RepeatVector) (None, 60, 128)           0         \n",
            "_________________________________________________________________\n",
            "lstm_1 (LSTM)                (None, 60, 128)           131584    \n",
            "_________________________________________________________________\n",
            "dropout_1 (Dropout)          (None, 60, 128)           0         \n",
            "_________________________________________________________________\n",
            "time_distributed (TimeDistri (None, 60, 1)             129       \n",
            "=================================================================\n",
            "Total params: 198,273\n",
            "Trainable params: 198,273\n",
            "Non-trainable params: 0\n",
            "_________________________________________________________________\n"
          ],
          "name": "stdout"
        }
      ]
    },
    {
      "cell_type": "code",
      "metadata": {
        "colab": {
          "base_uri": "https://localhost:8080/"
        },
        "id": "Tjd5UW-t_4Vg",
        "outputId": "0903eb7f-4726-48f6-b03a-02be42ea1245"
      },
      "source": [
        "#fitting the model\n",
        "history = model.fit(X_train, y_train, epochs=100, batch_size=32, validation_split=0.1, verbose=1)\n"
      ],
      "execution_count": 18,
      "outputs": [
        {
          "output_type": "stream",
          "text": [
            "Epoch 1/100\n",
            "296/296 [==============================] - 33s 111ms/step - loss: 0.0164 - val_loss: 0.2324\n",
            "Epoch 2/100\n",
            "296/296 [==============================] - 33s 112ms/step - loss: 0.0154 - val_loss: 0.2575\n",
            "Epoch 3/100\n",
            "296/296 [==============================] - 33s 110ms/step - loss: 0.0155 - val_loss: 0.1774\n",
            "Epoch 4/100\n",
            "296/296 [==============================] - 33s 111ms/step - loss: 0.0155 - val_loss: 0.2608\n",
            "Epoch 5/100\n",
            "296/296 [==============================] - 33s 111ms/step - loss: 0.0160 - val_loss: 0.2048\n",
            "Epoch 6/100\n",
            "296/296 [==============================] - 33s 111ms/step - loss: 0.0156 - val_loss: 0.2545\n",
            "Epoch 7/100\n",
            "296/296 [==============================] - 33s 112ms/step - loss: 0.0156 - val_loss: 0.1910\n",
            "Epoch 8/100\n",
            "296/296 [==============================] - 33s 112ms/step - loss: 0.0153 - val_loss: 0.1971\n",
            "Epoch 9/100\n",
            "296/296 [==============================] - 33s 111ms/step - loss: 0.0155 - val_loss: 0.1646\n",
            "Epoch 10/100\n",
            "296/296 [==============================] - 33s 111ms/step - loss: 0.0155 - val_loss: 0.1898\n",
            "Epoch 11/100\n",
            "296/296 [==============================] - 33s 112ms/step - loss: 0.0154 - val_loss: 0.2415\n",
            "Epoch 12/100\n",
            "296/296 [==============================] - 33s 112ms/step - loss: 0.0157 - val_loss: 0.1939\n",
            "Epoch 13/100\n",
            "296/296 [==============================] - 33s 112ms/step - loss: 0.0159 - val_loss: 0.1360\n",
            "Epoch 14/100\n",
            "296/296 [==============================] - 33s 112ms/step - loss: 0.0151 - val_loss: 0.2258\n",
            "Epoch 15/100\n",
            "296/296 [==============================] - 33s 112ms/step - loss: 0.0153 - val_loss: 0.1958\n",
            "Epoch 16/100\n",
            "296/296 [==============================] - 33s 112ms/step - loss: 0.0151 - val_loss: 0.2095\n",
            "Epoch 17/100\n",
            "296/296 [==============================] - 33s 113ms/step - loss: 0.0151 - val_loss: 0.2132\n",
            "Epoch 18/100\n",
            "296/296 [==============================] - 33s 111ms/step - loss: 0.0155 - val_loss: 0.2134\n",
            "Epoch 19/100\n",
            "296/296 [==============================] - 34s 113ms/step - loss: 0.0148 - val_loss: 0.2239\n",
            "Epoch 20/100\n",
            "296/296 [==============================] - 33s 113ms/step - loss: 0.0152 - val_loss: 0.3350\n",
            "Epoch 21/100\n",
            "296/296 [==============================] - 34s 113ms/step - loss: 0.0153 - val_loss: 0.1969\n",
            "Epoch 22/100\n",
            "296/296 [==============================] - 33s 113ms/step - loss: 0.0154 - val_loss: 0.1680\n",
            "Epoch 23/100\n",
            "296/296 [==============================] - 33s 113ms/step - loss: 0.0149 - val_loss: 0.2162\n",
            "Epoch 24/100\n",
            "296/296 [==============================] - 33s 112ms/step - loss: 0.0150 - val_loss: 0.1774\n",
            "Epoch 25/100\n",
            "296/296 [==============================] - 33s 113ms/step - loss: 0.0150 - val_loss: 0.2052\n",
            "Epoch 26/100\n",
            "296/296 [==============================] - 33s 112ms/step - loss: 0.0152 - val_loss: 0.2364\n",
            "Epoch 27/100\n",
            "296/296 [==============================] - 33s 113ms/step - loss: 0.0151 - val_loss: 0.2093\n",
            "Epoch 28/100\n",
            "296/296 [==============================] - 33s 112ms/step - loss: 0.0148 - val_loss: 0.1714\n",
            "Epoch 29/100\n",
            "296/296 [==============================] - 33s 113ms/step - loss: 0.0151 - val_loss: 0.1820\n",
            "Epoch 30/100\n",
            "296/296 [==============================] - 34s 114ms/step - loss: 0.0151 - val_loss: 0.2849\n",
            "Epoch 31/100\n",
            "296/296 [==============================] - 34s 114ms/step - loss: 0.0151 - val_loss: 0.1572\n",
            "Epoch 32/100\n",
            "296/296 [==============================] - 33s 113ms/step - loss: 0.0152 - val_loss: 0.2190\n",
            "Epoch 33/100\n",
            "296/296 [==============================] - 34s 114ms/step - loss: 0.0149 - val_loss: 0.1915\n",
            "Epoch 34/100\n",
            "296/296 [==============================] - 34s 113ms/step - loss: 0.0158 - val_loss: 0.2145\n",
            "Epoch 35/100\n",
            "296/296 [==============================] - 33s 112ms/step - loss: 0.0147 - val_loss: 0.2735\n",
            "Epoch 36/100\n",
            "296/296 [==============================] - 33s 112ms/step - loss: 0.0148 - val_loss: 0.1773\n",
            "Epoch 37/100\n",
            "296/296 [==============================] - 34s 114ms/step - loss: 0.0150 - val_loss: 0.1871\n",
            "Epoch 38/100\n",
            "296/296 [==============================] - 33s 112ms/step - loss: 0.0147 - val_loss: 0.1768\n",
            "Epoch 39/100\n",
            "296/296 [==============================] - 34s 114ms/step - loss: 0.0147 - val_loss: 0.1739\n",
            "Epoch 40/100\n",
            "296/296 [==============================] - 34s 114ms/step - loss: 0.0149 - val_loss: 0.1885\n",
            "Epoch 41/100\n",
            "296/296 [==============================] - 34s 113ms/step - loss: 0.0149 - val_loss: 0.1698\n",
            "Epoch 42/100\n",
            "296/296 [==============================] - 33s 113ms/step - loss: 0.0149 - val_loss: 0.1759\n",
            "Epoch 43/100\n",
            "296/296 [==============================] - 33s 113ms/step - loss: 0.0148 - val_loss: 0.1553\n",
            "Epoch 44/100\n",
            "296/296 [==============================] - 34s 113ms/step - loss: 0.0149 - val_loss: 0.1828\n",
            "Epoch 45/100\n",
            "296/296 [==============================] - 33s 113ms/step - loss: 0.0148 - val_loss: 0.1909\n",
            "Epoch 46/100\n",
            "296/296 [==============================] - 33s 112ms/step - loss: 0.0145 - val_loss: 0.1789\n",
            "Epoch 47/100\n",
            "296/296 [==============================] - 33s 110ms/step - loss: 0.0151 - val_loss: 0.1593\n",
            "Epoch 48/100\n",
            "296/296 [==============================] - 34s 113ms/step - loss: 0.0144 - val_loss: 0.1909\n",
            "Epoch 49/100\n",
            "296/296 [==============================] - 34s 114ms/step - loss: 0.0146 - val_loss: 0.1774\n",
            "Epoch 50/100\n",
            "296/296 [==============================] - 34s 114ms/step - loss: 0.0146 - val_loss: 0.1909\n",
            "Epoch 51/100\n",
            "296/296 [==============================] - 33s 113ms/step - loss: 0.0145 - val_loss: 0.2166\n",
            "Epoch 52/100\n",
            "296/296 [==============================] - 33s 113ms/step - loss: 0.0148 - val_loss: 0.2339\n",
            "Epoch 53/100\n",
            "296/296 [==============================] - 34s 114ms/step - loss: 0.0146 - val_loss: 0.1827\n",
            "Epoch 54/100\n",
            "296/296 [==============================] - 33s 113ms/step - loss: 0.0146 - val_loss: 0.1848\n",
            "Epoch 55/100\n",
            "296/296 [==============================] - 34s 113ms/step - loss: 0.0145 - val_loss: 0.1701\n",
            "Epoch 56/100\n",
            "296/296 [==============================] - 34s 114ms/step - loss: 0.0147 - val_loss: 0.1543\n",
            "Epoch 57/100\n",
            "296/296 [==============================] - 34s 114ms/step - loss: 0.0144 - val_loss: 0.1774\n",
            "Epoch 58/100\n",
            "296/296 [==============================] - 34s 113ms/step - loss: 0.0147 - val_loss: 0.1497\n",
            "Epoch 59/100\n",
            "296/296 [==============================] - 34s 115ms/step - loss: 0.0147 - val_loss: 0.1464\n",
            "Epoch 60/100\n",
            "296/296 [==============================] - 34s 114ms/step - loss: 0.0146 - val_loss: 0.1551\n",
            "Epoch 61/100\n",
            "296/296 [==============================] - 34s 116ms/step - loss: 0.0146 - val_loss: 0.1708\n",
            "Epoch 62/100\n",
            "296/296 [==============================] - 34s 114ms/step - loss: 0.0146 - val_loss: 0.1695\n",
            "Epoch 63/100\n",
            "296/296 [==============================] - 34s 114ms/step - loss: 0.0145 - val_loss: 0.1802\n",
            "Epoch 64/100\n",
            "296/296 [==============================] - 34s 116ms/step - loss: 0.0144 - val_loss: 0.2008\n",
            "Epoch 65/100\n",
            "296/296 [==============================] - 34s 114ms/step - loss: 0.0144 - val_loss: 0.1871\n",
            "Epoch 66/100\n",
            "296/296 [==============================] - 34s 115ms/step - loss: 0.0142 - val_loss: 0.1938\n",
            "Epoch 67/100\n",
            "296/296 [==============================] - 34s 114ms/step - loss: 0.0146 - val_loss: 0.2067\n",
            "Epoch 68/100\n",
            "296/296 [==============================] - 34s 115ms/step - loss: 0.0148 - val_loss: 0.1936\n",
            "Epoch 69/100\n",
            "296/296 [==============================] - 34s 115ms/step - loss: 0.0144 - val_loss: 0.1728\n",
            "Epoch 70/100\n",
            "296/296 [==============================] - 34s 115ms/step - loss: 0.0144 - val_loss: 0.1784\n",
            "Epoch 71/100\n",
            "296/296 [==============================] - 34s 114ms/step - loss: 0.0141 - val_loss: 0.1363\n",
            "Epoch 72/100\n",
            "296/296 [==============================] - 34s 114ms/step - loss: 0.0142 - val_loss: 0.1569\n",
            "Epoch 73/100\n",
            "296/296 [==============================] - 34s 115ms/step - loss: 0.0144 - val_loss: 0.2073\n",
            "Epoch 74/100\n",
            "296/296 [==============================] - 34s 114ms/step - loss: 0.0143 - val_loss: 0.2303\n",
            "Epoch 75/100\n",
            "296/296 [==============================] - 34s 114ms/step - loss: 0.0143 - val_loss: 0.1767\n",
            "Epoch 76/100\n",
            "296/296 [==============================] - 33s 113ms/step - loss: 0.0145 - val_loss: 0.1841\n",
            "Epoch 77/100\n",
            "296/296 [==============================] - 33s 113ms/step - loss: 0.0141 - val_loss: 0.2039\n",
            "Epoch 78/100\n",
            "296/296 [==============================] - 33s 113ms/step - loss: 0.0143 - val_loss: 0.1747\n",
            "Epoch 79/100\n",
            "296/296 [==============================] - 34s 114ms/step - loss: 0.0141 - val_loss: 0.1832\n",
            "Epoch 80/100\n",
            "296/296 [==============================] - 34s 114ms/step - loss: 0.0142 - val_loss: 0.2385\n",
            "Epoch 81/100\n",
            "296/296 [==============================] - 34s 114ms/step - loss: 0.0142 - val_loss: 0.1621\n",
            "Epoch 82/100\n",
            "296/296 [==============================] - 34s 114ms/step - loss: 0.0143 - val_loss: 0.2516\n",
            "Epoch 83/100\n",
            "296/296 [==============================] - 34s 115ms/step - loss: 0.0142 - val_loss: 0.1649\n",
            "Epoch 84/100\n",
            "296/296 [==============================] - 34s 115ms/step - loss: 0.0143 - val_loss: 0.1849\n",
            "Epoch 85/100\n",
            "296/296 [==============================] - 34s 113ms/step - loss: 0.0142 - val_loss: 0.1863\n",
            "Epoch 86/100\n",
            "296/296 [==============================] - 34s 114ms/step - loss: 0.0143 - val_loss: 0.2145\n",
            "Epoch 87/100\n",
            "296/296 [==============================] - 34s 114ms/step - loss: 0.0142 - val_loss: 0.1819\n",
            "Epoch 88/100\n",
            "296/296 [==============================] - 34s 114ms/step - loss: 0.0144 - val_loss: 0.2404\n",
            "Epoch 89/100\n",
            "296/296 [==============================] - 34s 114ms/step - loss: 0.0143 - val_loss: 0.1779\n",
            "Epoch 90/100\n",
            "296/296 [==============================] - 34s 115ms/step - loss: 0.0141 - val_loss: 0.1860\n",
            "Epoch 91/100\n",
            "296/296 [==============================] - 34s 114ms/step - loss: 0.0142 - val_loss: 0.1732\n",
            "Epoch 92/100\n",
            "296/296 [==============================] - 34s 114ms/step - loss: 0.0142 - val_loss: 0.2288\n",
            "Epoch 93/100\n",
            "296/296 [==============================] - 34s 114ms/step - loss: 0.0141 - val_loss: 0.1902\n",
            "Epoch 94/100\n",
            "296/296 [==============================] - 34s 114ms/step - loss: 0.0142 - val_loss: 0.1458\n",
            "Epoch 95/100\n",
            "296/296 [==============================] - 34s 114ms/step - loss: 0.0140 - val_loss: 0.1727\n",
            "Epoch 96/100\n",
            "296/296 [==============================] - 34s 114ms/step - loss: 0.0142 - val_loss: 0.2030\n",
            "Epoch 97/100\n",
            "296/296 [==============================] - 34s 114ms/step - loss: 0.0139 - val_loss: 0.2044\n",
            "Epoch 98/100\n",
            "296/296 [==============================] - 34s 115ms/step - loss: 0.0140 - val_loss: 0.2559\n",
            "Epoch 99/100\n",
            "296/296 [==============================] - 34s 115ms/step - loss: 0.0141 - val_loss: 0.1939\n",
            "Epoch 100/100\n",
            "296/296 [==============================] - 34s 113ms/step - loss: 0.0143 - val_loss: 0.2097\n"
          ],
          "name": "stdout"
        }
      ]
    },
    {
      "cell_type": "code",
      "metadata": {
        "colab": {
          "base_uri": "https://localhost:8080/",
          "height": 269
        },
        "id": "mMMOcb0GFlYG",
        "outputId": "b6c13659-371d-446b-a552-597b1bc502c0"
      },
      "source": [
        "#plotting the losses\n",
        "plt.plot(history.history['loss'], label='Training loss')\n",
        "plt.plot(history.history['val_loss'], label='Validation loss')\n",
        "plt.legend()\n",
        "plt.savefig(\"Loss.png\")\n"
      ],
      "execution_count": 19,
      "outputs": [
        {
          "output_type": "display_data",
          "data": {
            "image/png": "[encoded data removed]",
            "text/plain": [
              "<Figure size 432x288 with 1 Axes>"
            ]
          },
          "metadata": {
            "tags": [],
            "needs_background": "light"
          }
        }
      ]
    },
    {
      "cell_type": "code",
      "metadata": {
        "colab": {
          "base_uri": "https://localhost:8080/",
          "height": 588
        },
        "id": "4Smbgt-3_7MN",
        "outputId": "61d208ed-ebb8-4b28-fb6f-3e0fe1925fde"
      },
      "source": [
        "#Anomaly is detected where the reconstruction error is large\n",
        "#we can define a value beyond which we call it an anomaly\n",
        "#let's look at MAE (mean absolute error) in training prediction\n",
        "pred_train = model.predict(X_train)\n",
        "train_mae = np.mean(np.abs(pred_train-X_train), axis=1)\n",
        "plt.hist(train_mae, bins=40)\n",
        "\n"
      ],
      "execution_count": 21,
      "outputs": [
        {
          "output_type": "execute_result",
          "data": {
            "text/plain": [
              "(array([7.805e+03, 7.440e+02, 3.460e+02, 2.360e+02, 2.250e+02, 1.610e+02,\n",
              "        1.300e+02, 1.410e+02, 9.500e+01, 7.500e+01, 6.500e+01, 4.800e+01,\n",
              "        2.700e+01, 4.000e+01, 3.000e+01, 3.500e+01, 3.300e+01, 2.600e+01,\n",
              "        2.500e+01, 3.600e+01, 2.300e+01, 2.500e+01, 2.100e+01, 1.900e+01,\n",
              "        1.700e+01, 1.000e+01, 1.300e+01, 3.000e+00, 5.000e+00, 9.000e+00,\n",
              "        3.000e+00, 8.000e+00, 5.000e+00, 6.000e+00, 8.000e+00, 3.000e+00,\n",
              "        3.000e+00, 4.000e+00, 1.000e+00, 4.000e+00]),\n",
              " array([9.37724266e-04, 2.55400114e-02, 5.01422986e-02, 7.47445858e-02,\n",
              "        9.93468730e-02, 1.23949160e-01, 1.48551447e-01, 1.73153734e-01,\n",
              "        1.97756022e-01, 2.22358309e-01, 2.46960596e-01, 2.71562883e-01,\n",
              "        2.96165170e-01, 3.20767457e-01, 3.45369745e-01, 3.69972032e-01,\n",
              "        3.94574319e-01, 4.19176606e-01, 4.43778893e-01, 4.68381181e-01,\n",
              "        4.92983468e-01, 5.17585755e-01, 5.42188042e-01, 5.66790329e-01,\n",
              "        5.91392616e-01, 6.15994904e-01, 6.40597191e-01, 6.65199478e-01,\n",
              "        6.89801765e-01, 7.14404052e-01, 7.39006339e-01, 7.63608627e-01,\n",
              "        7.88210914e-01, 8.12813201e-01, 8.37415488e-01, 8.62017775e-01,\n",
              "        8.86620062e-01, 9.11222350e-01, 9.35824637e-01, 9.60426924e-01,\n",
              "        9.85029211e-01]),\n",
              " <a list of 40 Patch objects>)"
            ]
          },
          "metadata": {
            "tags": []
          },
          "execution_count": 21
        },
        {
          "output_type": "display_data",
          "data": {
            "image/png": "[encoded data removed]",
            "text/plain": [
              "<Figure size 432x288 with 1 Axes>"
            ]
          },
          "metadata": {
            "tags": [],
            "needs_background": "light"
          }
        }
      ]
    },
    {
      "cell_type": "code",
      "metadata": {
        "colab": {
          "base_uri": "https://localhost:8080/",
          "height": 503
        },
        "id": "gKnBNtOLAEmv",
        "outputId": "b969677b-d4d9-42d4-99b3-3382cd4f0e39"
      },
      "source": [
        "#error prediction on test data\n",
        "pred_test = model.predict(X_test)\n",
        "test_mae = np.mean(np.abs(pred_test-X_test), axis=1)\n",
        "plt.hist(test_mae, bins=40)\n"
      ],
      "execution_count": 23,
      "outputs": [
        {
          "output_type": "execute_result",
          "data": {
            "text/plain": [
              "(array([269., 728., 561., 591., 444., 380., 288., 220., 182., 114.,  88.,\n",
              "         63.,  64.,  67.,  50.,  28.,  19.,  19.,  10.,  12.,  10.,  10.,\n",
              "          7.,   5.,   9.,   2.,   5.,   5.,   4.,   3.,   7.,   3.,   0.,\n",
              "          1.,   3.,   1.,   0.,   0.,   0.,   1.]),\n",
              " array([0.01671798, 0.03377228, 0.05082658, 0.06788088, 0.08493519,\n",
              "        0.10198949, 0.11904379, 0.13609809, 0.15315239, 0.17020669,\n",
              "        0.18726099, 0.20431529, 0.2213696 , 0.2384239 , 0.2554782 ,\n",
              "        0.2725325 , 0.2895868 , 0.3066411 , 0.3236954 , 0.3407497 ,\n",
              "        0.35780401, 0.37485831, 0.39191261, 0.40896691, 0.42602121,\n",
              "        0.44307551, 0.46012981, 0.47718411, 0.49423842, 0.51129272,\n",
              "        0.52834702, 0.54540132, 0.56245562, 0.57950992, 0.59656422,\n",
              "        0.61361852, 0.63067283, 0.64772713, 0.66478143, 0.68183573,\n",
              "        0.69889003]),\n",
              " <a list of 40 Patch objects>)"
            ]
          },
          "metadata": {
            "tags": []
          },
          "execution_count": 23
        },
        {
          "output_type": "display_data",
          "data": {
            "image/png": "[encoded data removed]",
            "text/plain": [
              "<Figure size 432x288 with 1 Axes>"
            ]
          },
          "metadata": {
            "tags": [],
            "needs_background": "light"
          }
        }
      ]
    },
    {
      "cell_type": "code",
      "metadata": {
        "id": "5jh3EjqHAHyH"
      },
      "source": [
        "max_train_mae = 0.38 # choosing the threshold value, thus beyond 0.38 it is anomaly\n",
        "\n",
        "#Gathering all details in a dataframe to plot easily\n",
        "anomaly = pd.DataFrame(test[seq_size:])\n",
        "anomaly['test_mae'] = test_mae\n",
        "anomaly['max_train_mae'] = max_train_mae\n",
        "anomaly['anomaly'] = anomaly['test_mae'] > anomaly['max_train_mae']\n",
        "anomaly['Close'] = test[seq_size:]['Close']\n"
      ],
      "execution_count": 31,
      "outputs": []
    },
    {
      "cell_type": "code",
      "metadata": {
        "colab": {
          "base_uri": "https://localhost:8080/",
          "height": 279
        },
        "id": "joco9OtmAIzc",
        "outputId": "499fe759-b9e1-435d-ee06-e4bf1e41e8f0"
      },
      "source": [
        "#plotting test_mae vs max_train_mae\n",
        "sns.lineplot(x = anomaly['Date'], y = anomaly['test_mae'])\n",
        "sns.lineplot(x = anomaly['Date'], y = anomaly['max_train_mae'])\n",
        "\n",
        "actual_anomalies = anomaly.loc[anomaly['anomaly'] == True]\n"
      ],
      "execution_count": 32,
      "outputs": [
        {
          "output_type": "display_data",
          "data": {
            "image/png": "[encoded data removed]",
            "text/plain": [
              "<Figure size 432x288 with 1 Axes>"
            ]
          },
          "metadata": {
            "tags": [],
            "needs_background": "light"
          }
        }
      ]
    },
    {
      "cell_type": "code",
      "metadata": {
        "colab": {
          "base_uri": "https://localhost:8080/",
          "height": 296
        },
        "id": "EP4HglCCAPdf",
        "outputId": "8fad0bfd-dcec-4015-d24d-0dc03d5c5fc8"
      },
      "source": [
        "#plotting the actual anomalies, here as red dots\n",
        "sns.lineplot(x=anomaly['Date'], y=scaler.inverse_transform(anomaly['Close']))\n",
        "sns.scatterplot(x=actual_anomalies['Date'], y=scaler.inverse_transform(actual_anomalies['Close']), color='r')\n",
        "#plt.savefig(\"Final output.png\")\n"
      ],
      "execution_count": 30,
      "outputs": [
        {
          "output_type": "execute_result",
          "data": {
            "text/plain": [
              "<matplotlib.axes._subplots.AxesSubplot at 0x7f9a84fac790>"
            ]
          },
          "metadata": {
            "tags": []
          },
          "execution_count": 30
        },
        {
          "output_type": "display_data",
          "data": {
            "image/png": "[encoded data removed]",
            "text/plain": [
              "<Figure size 432x288 with 1 Axes>"
            ]
          },
          "metadata": {
            "tags": [],
            "needs_background": "light"
          }
        }
      ]
    }
  ]
}